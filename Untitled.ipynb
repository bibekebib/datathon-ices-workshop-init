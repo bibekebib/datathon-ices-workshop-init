{
 "cells": [
  {
   "cell_type": "markdown",
   "id": "402a99a4",
   "metadata": {},
   "source": [
    "## datathon: Where Data Becomes Reeality"
   ]
  },
  {
   "cell_type": "code",
   "execution_count": 73,
   "id": "5c1a9927",
   "metadata": {},
   "outputs": [],
   "source": [
    "#importing libraries\n",
    "import pandas as pd\n",
    "import numpy as np\n",
    "import matplotlib.pyplot as plt\n",
    "import seaborn as sns"
   ]
  },
  {
   "cell_type": "code",
   "execution_count": 74,
   "id": "6a325f8c",
   "metadata": {},
   "outputs": [],
   "source": [
    "#Read Dataset\n",
    "df = pd.read_csv('dataset.csv')"
   ]
  },
  {
   "cell_type": "code",
   "execution_count": 75,
   "id": "c87d218d",
   "metadata": {},
   "outputs": [
    {
     "data": {
      "text/html": [
       "<div>\n",
       "<style scoped>\n",
       "    .dataframe tbody tr th:only-of-type {\n",
       "        vertical-align: middle;\n",
       "    }\n",
       "\n",
       "    .dataframe tbody tr th {\n",
       "        vertical-align: top;\n",
       "    }\n",
       "\n",
       "    .dataframe thead th {\n",
       "        text-align: right;\n",
       "    }\n",
       "</style>\n",
       "<table border=\"1\" class=\"dataframe\">\n",
       "  <thead>\n",
       "    <tr style=\"text-align: right;\">\n",
       "      <th></th>\n",
       "      <th>_id</th>\n",
       "      <th>DISTRICT</th>\n",
       "      <th>MILKING  COWS NO.</th>\n",
       "      <th>MILKING  BUFFALOES NO.</th>\n",
       "      <th>COW MILK</th>\n",
       "      <th>BUFF MILK</th>\n",
       "      <th>TOTAL MILK PRODUCED</th>\n",
       "    </tr>\n",
       "  </thead>\n",
       "  <tbody>\n",
       "    <tr>\n",
       "      <th>0</th>\n",
       "      <td>1</td>\n",
       "      <td>TAPLEJUNG</td>\n",
       "      <td>8123</td>\n",
       "      <td>4987</td>\n",
       "      <td>5389</td>\n",
       "      <td>4257</td>\n",
       "      <td>9645.0</td>\n",
       "    </tr>\n",
       "    <tr>\n",
       "      <th>1</th>\n",
       "      <td>2</td>\n",
       "      <td>SANKHUWASHAVA</td>\n",
       "      <td>15342</td>\n",
       "      <td>13367</td>\n",
       "      <td>6988</td>\n",
       "      <td>10589</td>\n",
       "      <td>17577.0</td>\n",
       "    </tr>\n",
       "    <tr>\n",
       "      <th>2</th>\n",
       "      <td>3</td>\n",
       "      <td>SOLUKHUMBU</td>\n",
       "      <td>7819</td>\n",
       "      <td>13501</td>\n",
       "      <td>2948</td>\n",
       "      <td>5493</td>\n",
       "      <td>8441.0</td>\n",
       "    </tr>\n",
       "    <tr>\n",
       "      <th>3</th>\n",
       "      <td>4</td>\n",
       "      <td>E.MOUNTAIN</td>\n",
       "      <td>31284</td>\n",
       "      <td>31855</td>\n",
       "      <td>15324</td>\n",
       "      <td>20339</td>\n",
       "      <td>35663.0</td>\n",
       "    </tr>\n",
       "    <tr>\n",
       "      <th>4</th>\n",
       "      <td>5</td>\n",
       "      <td>PANCHTHAR</td>\n",
       "      <td>14854</td>\n",
       "      <td>11331</td>\n",
       "      <td>8511</td>\n",
       "      <td>9835</td>\n",
       "      <td>18346.0</td>\n",
       "    </tr>\n",
       "  </tbody>\n",
       "</table>\n",
       "</div>"
      ],
      "text/plain": [
       "   _id       DISTRICT  MILKING  COWS NO.  MILKING  BUFFALOES NO.  COW MILK  \\\n",
       "0    1      TAPLEJUNG               8123                    4987      5389   \n",
       "1    2  SANKHUWASHAVA              15342                   13367      6988   \n",
       "2    3     SOLUKHUMBU               7819                   13501      2948   \n",
       "3    4     E.MOUNTAIN              31284                   31855     15324   \n",
       "4    5      PANCHTHAR              14854                   11331      8511   \n",
       "\n",
       "   BUFF MILK  TOTAL MILK PRODUCED  \n",
       "0       4257               9645.0  \n",
       "1      10589              17577.0  \n",
       "2       5493               8441.0  \n",
       "3      20339              35663.0  \n",
       "4       9835              18346.0  "
      ]
     },
     "execution_count": 75,
     "metadata": {},
     "output_type": "execute_result"
    }
   ],
   "source": [
    "df.head()"
   ]
  },
  {
   "cell_type": "code",
   "execution_count": 76,
   "id": "f463be9e",
   "metadata": {},
   "outputs": [
    {
     "data": {
      "text/html": [
       "<div>\n",
       "<style scoped>\n",
       "    .dataframe tbody tr th:only-of-type {\n",
       "        vertical-align: middle;\n",
       "    }\n",
       "\n",
       "    .dataframe tbody tr th {\n",
       "        vertical-align: top;\n",
       "    }\n",
       "\n",
       "    .dataframe thead th {\n",
       "        text-align: right;\n",
       "    }\n",
       "</style>\n",
       "<table border=\"1\" class=\"dataframe\">\n",
       "  <thead>\n",
       "    <tr style=\"text-align: right;\">\n",
       "      <th></th>\n",
       "      <th>_id</th>\n",
       "      <th>MILKING  COWS NO.</th>\n",
       "      <th>MILKING  BUFFALOES NO.</th>\n",
       "      <th>COW MILK</th>\n",
       "      <th>BUFF MILK</th>\n",
       "      <th>TOTAL MILK PRODUCED</th>\n",
       "    </tr>\n",
       "  </thead>\n",
       "  <tbody>\n",
       "    <tr>\n",
       "      <th>count</th>\n",
       "      <td>96.000000</td>\n",
       "      <td>9.600000e+01</td>\n",
       "      <td>9.600000e+01</td>\n",
       "      <td>96.000000</td>\n",
       "      <td>9.600000e+01</td>\n",
       "      <td>95.000000</td>\n",
       "    </tr>\n",
       "    <tr>\n",
       "      <th>mean</th>\n",
       "      <td>48.500000</td>\n",
       "      <td>4.275562e+04</td>\n",
       "      <td>5.647433e+04</td>\n",
       "      <td>26825.260417</td>\n",
       "      <td>5.043505e+04</td>\n",
       "      <td>58555.189474</td>\n",
       "    </tr>\n",
       "    <tr>\n",
       "      <th>std</th>\n",
       "      <td>27.856777</td>\n",
       "      <td>1.144496e+05</td>\n",
       "      <td>1.508551e+05</td>\n",
       "      <td>71948.998086</td>\n",
       "      <td>1.358044e+05</td>\n",
       "      <td>96696.838132</td>\n",
       "    </tr>\n",
       "    <tr>\n",
       "      <th>min</th>\n",
       "      <td>1.000000</td>\n",
       "      <td>4.520000e+02</td>\n",
       "      <td>0.000000e+00</td>\n",
       "      <td>259.000000</td>\n",
       "      <td>0.000000e+00</td>\n",
       "      <td>259.000000</td>\n",
       "    </tr>\n",
       "    <tr>\n",
       "      <th>25%</th>\n",
       "      <td>24.750000</td>\n",
       "      <td>8.074750e+03</td>\n",
       "      <td>1.020550e+04</td>\n",
       "      <td>4630.750000</td>\n",
       "      <td>9.085000e+03</td>\n",
       "      <td>14179.500000</td>\n",
       "    </tr>\n",
       "    <tr>\n",
       "      <th>50%</th>\n",
       "      <td>48.500000</td>\n",
       "      <td>1.513050e+04</td>\n",
       "      <td>1.954000e+04</td>\n",
       "      <td>8343.500000</td>\n",
       "      <td>1.710250e+04</td>\n",
       "      <td>28027.000000</td>\n",
       "    </tr>\n",
       "    <tr>\n",
       "      <th>75%</th>\n",
       "      <td>72.250000</td>\n",
       "      <td>2.600800e+04</td>\n",
       "      <td>3.674975e+04</td>\n",
       "      <td>15694.000000</td>\n",
       "      <td>3.110500e+04</td>\n",
       "      <td>43324.000000</td>\n",
       "    </tr>\n",
       "    <tr>\n",
       "      <th>max</th>\n",
       "      <td>96.000000</td>\n",
       "      <td>1.026135e+06</td>\n",
       "      <td>1.355384e+06</td>\n",
       "      <td>643806.000000</td>\n",
       "      <td>1.210441e+06</td>\n",
       "      <td>536299.000000</td>\n",
       "    </tr>\n",
       "  </tbody>\n",
       "</table>\n",
       "</div>"
      ],
      "text/plain": [
       "             _id  MILKING  COWS NO.  MILKING  BUFFALOES NO.       COW MILK  \\\n",
       "count  96.000000       9.600000e+01            9.600000e+01      96.000000   \n",
       "mean   48.500000       4.275562e+04            5.647433e+04   26825.260417   \n",
       "std    27.856777       1.144496e+05            1.508551e+05   71948.998086   \n",
       "min     1.000000       4.520000e+02            0.000000e+00     259.000000   \n",
       "25%    24.750000       8.074750e+03            1.020550e+04    4630.750000   \n",
       "50%    48.500000       1.513050e+04            1.954000e+04    8343.500000   \n",
       "75%    72.250000       2.600800e+04            3.674975e+04   15694.000000   \n",
       "max    96.000000       1.026135e+06            1.355384e+06  643806.000000   \n",
       "\n",
       "          BUFF MILK  TOTAL MILK PRODUCED  \n",
       "count  9.600000e+01            95.000000  \n",
       "mean   5.043505e+04         58555.189474  \n",
       "std    1.358044e+05         96696.838132  \n",
       "min    0.000000e+00           259.000000  \n",
       "25%    9.085000e+03         14179.500000  \n",
       "50%    1.710250e+04         28027.000000  \n",
       "75%    3.110500e+04         43324.000000  \n",
       "max    1.210441e+06        536299.000000  "
      ]
     },
     "execution_count": 76,
     "metadata": {},
     "output_type": "execute_result"
    }
   ],
   "source": [
    "df.describe()"
   ]
  },
  {
   "cell_type": "code",
   "execution_count": 77,
   "id": "ae070669",
   "metadata": {},
   "outputs": [
    {
     "name": "stdout",
     "output_type": "stream",
     "text": [
      "<class 'pandas.core.frame.DataFrame'>\n",
      "RangeIndex: 96 entries, 0 to 95\n",
      "Data columns (total 7 columns):\n",
      " #   Column                  Non-Null Count  Dtype  \n",
      "---  ------                  --------------  -----  \n",
      " 0   _id                     96 non-null     int64  \n",
      " 1   DISTRICT                96 non-null     object \n",
      " 2   MILKING  COWS NO.       96 non-null     int64  \n",
      " 3   MILKING  BUFFALOES NO.  96 non-null     int64  \n",
      " 4   COW MILK                96 non-null     int64  \n",
      " 5   BUFF MILK               96 non-null     int64  \n",
      " 6   TOTAL MILK PRODUCED     95 non-null     float64\n",
      "dtypes: float64(1), int64(5), object(1)\n",
      "memory usage: 5.4+ KB\n"
     ]
    }
   ],
   "source": [
    "df.info()"
   ]
  },
  {
   "cell_type": "code",
   "execution_count": 78,
   "id": "bdc24608",
   "metadata": {},
   "outputs": [
    {
     "data": {
      "text/plain": [
       "_id                       0\n",
       "DISTRICT                  0\n",
       "MILKING  COWS NO.         0\n",
       "MILKING  BUFFALOES NO.    0\n",
       "COW MILK                  0\n",
       "BUFF MILK                 0\n",
       "TOTAL MILK PRODUCED       1\n",
       "dtype: int64"
      ]
     },
     "execution_count": 78,
     "metadata": {},
     "output_type": "execute_result"
    }
   ],
   "source": [
    "df.isnull().sum()"
   ]
  },
  {
   "cell_type": "code",
   "execution_count": 79,
   "id": "b7db3ecc",
   "metadata": {},
   "outputs": [
    {
     "data": {
      "text/html": [
       "<div>\n",
       "<style scoped>\n",
       "    .dataframe tbody tr th:only-of-type {\n",
       "        vertical-align: middle;\n",
       "    }\n",
       "\n",
       "    .dataframe tbody tr th {\n",
       "        vertical-align: top;\n",
       "    }\n",
       "\n",
       "    .dataframe thead th {\n",
       "        text-align: right;\n",
       "    }\n",
       "</style>\n",
       "<table border=\"1\" class=\"dataframe\">\n",
       "  <thead>\n",
       "    <tr style=\"text-align: right;\">\n",
       "      <th></th>\n",
       "      <th>_id</th>\n",
       "      <th>DISTRICT</th>\n",
       "      <th>MILKING  COWS NO.</th>\n",
       "      <th>MILKING  BUFFALOES NO.</th>\n",
       "      <th>COW MILK</th>\n",
       "      <th>BUFF MILK</th>\n",
       "      <th>TOTAL MILK PRODUCED</th>\n",
       "    </tr>\n",
       "  </thead>\n",
       "  <tbody>\n",
       "    <tr>\n",
       "      <th>91</th>\n",
       "      <td>92</td>\n",
       "      <td>KAILALI</td>\n",
       "      <td>27758</td>\n",
       "      <td>41103</td>\n",
       "      <td>27905</td>\n",
       "      <td>36677</td>\n",
       "      <td>64582.0</td>\n",
       "    </tr>\n",
       "    <tr>\n",
       "      <th>92</th>\n",
       "      <td>93</td>\n",
       "      <td>KANCHANPUR</td>\n",
       "      <td>20164</td>\n",
       "      <td>27812</td>\n",
       "      <td>23146</td>\n",
       "      <td>25876</td>\n",
       "      <td>49022.0</td>\n",
       "    </tr>\n",
       "    <tr>\n",
       "      <th>93</th>\n",
       "      <td>94</td>\n",
       "      <td>FW.TERAI</td>\n",
       "      <td>47922</td>\n",
       "      <td>68915</td>\n",
       "      <td>51051</td>\n",
       "      <td>62553</td>\n",
       "      <td>113604.0</td>\n",
       "    </tr>\n",
       "    <tr>\n",
       "      <th>94</th>\n",
       "      <td>95</td>\n",
       "      <td>FW. REGION</td>\n",
       "      <td>130595</td>\n",
       "      <td>132257</td>\n",
       "      <td>87936</td>\n",
       "      <td>112438</td>\n",
       "      <td>200374.0</td>\n",
       "    </tr>\n",
       "    <tr>\n",
       "      <th>95</th>\n",
       "      <td>96</td>\n",
       "      <td>NEPAL</td>\n",
       "      <td>1026135</td>\n",
       "      <td>1355384</td>\n",
       "      <td>643806</td>\n",
       "      <td>1210441</td>\n",
       "      <td>NaN</td>\n",
       "    </tr>\n",
       "  </tbody>\n",
       "</table>\n",
       "</div>"
      ],
      "text/plain": [
       "    _id    DISTRICT  MILKING  COWS NO.  MILKING  BUFFALOES NO.  COW MILK  \\\n",
       "91   92     KAILALI              27758                   41103     27905   \n",
       "92   93  KANCHANPUR              20164                   27812     23146   \n",
       "93   94    FW.TERAI              47922                   68915     51051   \n",
       "94   95  FW. REGION             130595                  132257     87936   \n",
       "95   96       NEPAL            1026135                 1355384    643806   \n",
       "\n",
       "    BUFF MILK  TOTAL MILK PRODUCED  \n",
       "91      36677              64582.0  \n",
       "92      25876              49022.0  \n",
       "93      62553             113604.0  \n",
       "94     112438             200374.0  \n",
       "95    1210441                  NaN  "
      ]
     },
     "execution_count": 79,
     "metadata": {},
     "output_type": "execute_result"
    }
   ],
   "source": [
    "df.tail()"
   ]
  },
  {
   "cell_type": "code",
   "execution_count": 80,
   "id": "20d7b318",
   "metadata": {},
   "outputs": [
    {
     "name": "stderr",
     "output_type": "stream",
     "text": [
      "/var/folders/f_/7l28g95x4l770x2zh0g55rt80000gn/T/ipykernel_2653/1788358231.py:1: SettingWithCopyWarning: \n",
      "A value is trying to be set on a copy of a slice from a DataFrame\n",
      "\n",
      "See the caveats in the documentation: https://pandas.pydata.org/pandas-docs/stable/user_guide/indexing.html#returning-a-view-versus-a-copy\n",
      "  df['TOTAL MILK PRODUCED'].loc[95] = ( df['COW MILK'].loc[95]+ df['BUFF MILK'].loc[95])\n"
     ]
    }
   ],
   "source": [
    "df['TOTAL MILK PRODUCED'].loc[95] = ( df['COW MILK'].loc[95]+ df['BUFF MILK'].loc[95])"
   ]
  },
  {
   "cell_type": "code",
   "execution_count": 81,
   "id": "e4365260",
   "metadata": {},
   "outputs": [
    {
     "data": {
      "text/html": [
       "<div>\n",
       "<style scoped>\n",
       "    .dataframe tbody tr th:only-of-type {\n",
       "        vertical-align: middle;\n",
       "    }\n",
       "\n",
       "    .dataframe tbody tr th {\n",
       "        vertical-align: top;\n",
       "    }\n",
       "\n",
       "    .dataframe thead th {\n",
       "        text-align: right;\n",
       "    }\n",
       "</style>\n",
       "<table border=\"1\" class=\"dataframe\">\n",
       "  <thead>\n",
       "    <tr style=\"text-align: right;\">\n",
       "      <th></th>\n",
       "      <th>_id</th>\n",
       "      <th>DISTRICT</th>\n",
       "      <th>MILKING  COWS NO.</th>\n",
       "      <th>MILKING  BUFFALOES NO.</th>\n",
       "      <th>COW MILK</th>\n",
       "      <th>BUFF MILK</th>\n",
       "      <th>TOTAL MILK PRODUCED</th>\n",
       "    </tr>\n",
       "  </thead>\n",
       "  <tbody>\n",
       "    <tr>\n",
       "      <th>91</th>\n",
       "      <td>92</td>\n",
       "      <td>KAILALI</td>\n",
       "      <td>27758</td>\n",
       "      <td>41103</td>\n",
       "      <td>27905</td>\n",
       "      <td>36677</td>\n",
       "      <td>64582.0</td>\n",
       "    </tr>\n",
       "    <tr>\n",
       "      <th>92</th>\n",
       "      <td>93</td>\n",
       "      <td>KANCHANPUR</td>\n",
       "      <td>20164</td>\n",
       "      <td>27812</td>\n",
       "      <td>23146</td>\n",
       "      <td>25876</td>\n",
       "      <td>49022.0</td>\n",
       "    </tr>\n",
       "    <tr>\n",
       "      <th>93</th>\n",
       "      <td>94</td>\n",
       "      <td>FW.TERAI</td>\n",
       "      <td>47922</td>\n",
       "      <td>68915</td>\n",
       "      <td>51051</td>\n",
       "      <td>62553</td>\n",
       "      <td>113604.0</td>\n",
       "    </tr>\n",
       "    <tr>\n",
       "      <th>94</th>\n",
       "      <td>95</td>\n",
       "      <td>FW. REGION</td>\n",
       "      <td>130595</td>\n",
       "      <td>132257</td>\n",
       "      <td>87936</td>\n",
       "      <td>112438</td>\n",
       "      <td>200374.0</td>\n",
       "    </tr>\n",
       "    <tr>\n",
       "      <th>95</th>\n",
       "      <td>96</td>\n",
       "      <td>NEPAL</td>\n",
       "      <td>1026135</td>\n",
       "      <td>1355384</td>\n",
       "      <td>643806</td>\n",
       "      <td>1210441</td>\n",
       "      <td>1854247.0</td>\n",
       "    </tr>\n",
       "  </tbody>\n",
       "</table>\n",
       "</div>"
      ],
      "text/plain": [
       "    _id    DISTRICT  MILKING  COWS NO.  MILKING  BUFFALOES NO.  COW MILK  \\\n",
       "91   92     KAILALI              27758                   41103     27905   \n",
       "92   93  KANCHANPUR              20164                   27812     23146   \n",
       "93   94    FW.TERAI              47922                   68915     51051   \n",
       "94   95  FW. REGION             130595                  132257     87936   \n",
       "95   96       NEPAL            1026135                 1355384    643806   \n",
       "\n",
       "    BUFF MILK  TOTAL MILK PRODUCED  \n",
       "91      36677              64582.0  \n",
       "92      25876              49022.0  \n",
       "93      62553             113604.0  \n",
       "94     112438             200374.0  \n",
       "95    1210441            1854247.0  "
      ]
     },
     "execution_count": 81,
     "metadata": {},
     "output_type": "execute_result"
    }
   ],
   "source": [
    "df.tail()"
   ]
  },
  {
   "cell_type": "code",
   "execution_count": 82,
   "id": "0f28f6aa",
   "metadata": {},
   "outputs": [
    {
     "data": {
      "text/plain": [
       "87936.0"
      ]
     },
     "execution_count": 82,
     "metadata": {},
     "output_type": "execute_result"
    }
   ],
   "source": [
    "200374.0 - 112438"
   ]
  },
  {
   "cell_type": "code",
   "execution_count": 83,
   "id": "51c40dd3",
   "metadata": {},
   "outputs": [],
   "source": [
    "df['COW MILK'].fillna(np.mean(df['COW MILK']), inplace=True)"
   ]
  },
  {
   "cell_type": "code",
   "execution_count": 84,
   "id": "b2238981",
   "metadata": {},
   "outputs": [
    {
     "data": {
      "text/plain": [
       "_id                       0\n",
       "DISTRICT                  0\n",
       "MILKING  COWS NO.         0\n",
       "MILKING  BUFFALOES NO.    0\n",
       "COW MILK                  0\n",
       "BUFF MILK                 0\n",
       "TOTAL MILK PRODUCED       0\n",
       "dtype: int64"
      ]
     },
     "execution_count": 84,
     "metadata": {},
     "output_type": "execute_result"
    }
   ],
   "source": [
    "df.isnull().sum()"
   ]
  },
  {
   "cell_type": "code",
   "execution_count": 85,
   "id": "d5ecc55c",
   "metadata": {},
   "outputs": [
    {
     "data": {
      "text/plain": [
       "Series([], Name: BUFF MILK, dtype: int64)"
      ]
     },
     "execution_count": 85,
     "metadata": {},
     "output_type": "execute_result"
    }
   ],
   "source": [
    "(df['BUFF MILK'][df['BUFF MILK'].isnull() == True])"
   ]
  },
  {
   "cell_type": "code",
   "execution_count": 93,
   "id": "4b846071",
   "metadata": {},
   "outputs": [
    {
     "data": {
      "text/html": [
       "<div>\n",
       "<style scoped>\n",
       "    .dataframe tbody tr th:only-of-type {\n",
       "        vertical-align: middle;\n",
       "    }\n",
       "\n",
       "    .dataframe tbody tr th {\n",
       "        vertical-align: top;\n",
       "    }\n",
       "\n",
       "    .dataframe thead th {\n",
       "        text-align: right;\n",
       "    }\n",
       "</style>\n",
       "<table border=\"1\" class=\"dataframe\">\n",
       "  <thead>\n",
       "    <tr style=\"text-align: right;\">\n",
       "      <th></th>\n",
       "      <th>_id</th>\n",
       "      <th>DISTRICT</th>\n",
       "      <th>MILKING  COWS NO.</th>\n",
       "      <th>MILKING  BUFFALOES NO.</th>\n",
       "      <th>COW MILK</th>\n",
       "      <th>BUFF MILK</th>\n",
       "      <th>TOTAL MILK PRODUCED</th>\n",
       "    </tr>\n",
       "  </thead>\n",
       "  <tbody>\n",
       "    <tr>\n",
       "      <th>43</th>\n",
       "      <td>44</td>\n",
       "      <td>MANANG</td>\n",
       "      <td>452</td>\n",
       "      <td>0</td>\n",
       "      <td>259</td>\n",
       "      <td>0</td>\n",
       "      <td>259.0</td>\n",
       "    </tr>\n",
       "    <tr>\n",
       "      <th>44</th>\n",
       "      <td>45</td>\n",
       "      <td>MUSTANG</td>\n",
       "      <td>1109</td>\n",
       "      <td>49</td>\n",
       "      <td>635</td>\n",
       "      <td>35</td>\n",
       "      <td>670.0</td>\n",
       "    </tr>\n",
       "    <tr>\n",
       "      <th>45</th>\n",
       "      <td>46</td>\n",
       "      <td>W.MOUNTAIN</td>\n",
       "      <td>1561</td>\n",
       "      <td>49</td>\n",
       "      <td>894</td>\n",
       "      <td>35</td>\n",
       "      <td>929.0</td>\n",
       "    </tr>\n",
       "    <tr>\n",
       "      <th>65</th>\n",
       "      <td>66</td>\n",
       "      <td>HUMLA</td>\n",
       "      <td>1677</td>\n",
       "      <td>496</td>\n",
       "      <td>961</td>\n",
       "      <td>421</td>\n",
       "      <td>1382.0</td>\n",
       "    </tr>\n",
       "    <tr>\n",
       "      <th>63</th>\n",
       "      <td>64</td>\n",
       "      <td>DOLPA</td>\n",
       "      <td>2043</td>\n",
       "      <td>713</td>\n",
       "      <td>1100</td>\n",
       "      <td>514</td>\n",
       "      <td>1614.0</td>\n",
       "    </tr>\n",
       "    <tr>\n",
       "      <th>...</th>\n",
       "      <td>...</td>\n",
       "      <td>...</td>\n",
       "      <td>...</td>\n",
       "      <td>...</td>\n",
       "      <td>...</td>\n",
       "      <td>...</td>\n",
       "      <td>...</td>\n",
       "    </tr>\n",
       "    <tr>\n",
       "      <th>57</th>\n",
       "      <td>58</td>\n",
       "      <td>W.HILLS</td>\n",
       "      <td>94009</td>\n",
       "      <td>225270</td>\n",
       "      <td>64947</td>\n",
       "      <td>230740</td>\n",
       "      <td>295687.0</td>\n",
       "    </tr>\n",
       "    <tr>\n",
       "      <th>62</th>\n",
       "      <td>63</td>\n",
       "      <td>W. REGION</td>\n",
       "      <td>154560</td>\n",
       "      <td>341323</td>\n",
       "      <td>105190</td>\n",
       "      <td>315616</td>\n",
       "      <td>420806.0</td>\n",
       "    </tr>\n",
       "    <tr>\n",
       "      <th>19</th>\n",
       "      <td>20</td>\n",
       "      <td>E. REGION</td>\n",
       "      <td>332384</td>\n",
       "      <td>292178</td>\n",
       "      <td>196708</td>\n",
       "      <td>263199</td>\n",
       "      <td>459907.0</td>\n",
       "    </tr>\n",
       "    <tr>\n",
       "      <th>42</th>\n",
       "      <td>43</td>\n",
       "      <td>C. REGION</td>\n",
       "      <td>263728</td>\n",
       "      <td>377741</td>\n",
       "      <td>177815</td>\n",
       "      <td>358483</td>\n",
       "      <td>536299.0</td>\n",
       "    </tr>\n",
       "    <tr>\n",
       "      <th>95</th>\n",
       "      <td>96</td>\n",
       "      <td>NEPAL</td>\n",
       "      <td>1026135</td>\n",
       "      <td>1355384</td>\n",
       "      <td>643806</td>\n",
       "      <td>1210441</td>\n",
       "      <td>1854247.0</td>\n",
       "    </tr>\n",
       "  </tbody>\n",
       "</table>\n",
       "<p>96 rows × 7 columns</p>\n",
       "</div>"
      ],
      "text/plain": [
       "    _id    DISTRICT  MILKING  COWS NO.  MILKING  BUFFALOES NO.  COW MILK  \\\n",
       "43   44      MANANG                452                       0       259   \n",
       "44   45     MUSTANG               1109                      49       635   \n",
       "45   46  W.MOUNTAIN               1561                      49       894   \n",
       "65   66       HUMLA               1677                     496       961   \n",
       "63   64       DOLPA               2043                     713      1100   \n",
       "..  ...         ...                ...                     ...       ...   \n",
       "57   58     W.HILLS              94009                  225270     64947   \n",
       "62   63   W. REGION             154560                  341323    105190   \n",
       "19   20   E. REGION             332384                  292178    196708   \n",
       "42   43   C. REGION             263728                  377741    177815   \n",
       "95   96       NEPAL            1026135                 1355384    643806   \n",
       "\n",
       "    BUFF MILK  TOTAL MILK PRODUCED  \n",
       "43          0                259.0  \n",
       "44         35                670.0  \n",
       "45         35                929.0  \n",
       "65        421               1382.0  \n",
       "63        514               1614.0  \n",
       "..        ...                  ...  \n",
       "57     230740             295687.0  \n",
       "62     315616             420806.0  \n",
       "19     263199             459907.0  \n",
       "42     358483             536299.0  \n",
       "95    1210441            1854247.0  \n",
       "\n",
       "[96 rows x 7 columns]"
      ]
     },
     "execution_count": 93,
     "metadata": {},
     "output_type": "execute_result"
    }
   ],
   "source": [
    "df.sort_values(by=['TOTAL MILK PRODUCED'],ascending=True)"
   ]
  },
  {
   "cell_type": "code",
   "execution_count": 87,
   "id": "1e483162",
   "metadata": {},
   "outputs": [
    {
     "name": "stderr",
     "output_type": "stream",
     "text": [
      "/Users/bibekchalise/Library/Python/3.9/lib/python/site-packages/pandas/plotting/_matplotlib/core.py:808: UserWarning: The label '_id' of <BarContainer object of 10 artists> starts with '_'. It is thus excluded from the legend.\n",
      "  ax.legend(handles, labels, loc=\"best\", title=title)\n"
     ]
    },
    {
     "data": {
      "text/plain": [
       "<AxesSubplot: xlabel='DISTRICT'>"
      ]
     },
     "execution_count": 87,
     "metadata": {},
     "output_type": "execute_result"
    },
    {
     "data": {
      "image/png": "[encoded data removed]",
      "text/plain": [
       "<Figure size 640x480 with 1 Axes>"
      ]
     },
     "metadata": {},
     "output_type": "display_data"
    }
   ],
   "source": [
    "df.nlargest(10, 'TOTAL MILK PRODUCED').plot(kind='bar', x='DISTRICT')"
   ]
  },
  {
   "cell_type": "code",
   "execution_count": 88,
   "id": "1b3ef5af",
   "metadata": {},
   "outputs": [],
   "source": [
    "nlrg = df.nlargest(10, 'TOTAL MILK PRODUCED')"
   ]
  },
  {
   "cell_type": "code",
   "execution_count": 89,
   "id": "4cc68fd9",
   "metadata": {},
   "outputs": [
    {
     "data": {
      "text/html": [
       "<div>\n",
       "<style scoped>\n",
       "    .dataframe tbody tr th:only-of-type {\n",
       "        vertical-align: middle;\n",
       "    }\n",
       "\n",
       "    .dataframe tbody tr th {\n",
       "        vertical-align: top;\n",
       "    }\n",
       "\n",
       "    .dataframe thead th {\n",
       "        text-align: right;\n",
       "    }\n",
       "</style>\n",
       "<table border=\"1\" class=\"dataframe\">\n",
       "  <thead>\n",
       "    <tr style=\"text-align: right;\">\n",
       "      <th></th>\n",
       "      <th>_id</th>\n",
       "      <th>DISTRICT</th>\n",
       "      <th>MILKING  COWS NO.</th>\n",
       "      <th>MILKING  BUFFALOES NO.</th>\n",
       "      <th>COW MILK</th>\n",
       "      <th>BUFF MILK</th>\n",
       "      <th>TOTAL MILK PRODUCED</th>\n",
       "    </tr>\n",
       "  </thead>\n",
       "  <tbody>\n",
       "    <tr>\n",
       "      <th>95</th>\n",
       "      <td>96</td>\n",
       "      <td>NEPAL</td>\n",
       "      <td>1026135</td>\n",
       "      <td>1355384</td>\n",
       "      <td>643806</td>\n",
       "      <td>1210441</td>\n",
       "      <td>1854247.0</td>\n",
       "    </tr>\n",
       "    <tr>\n",
       "      <th>42</th>\n",
       "      <td>43</td>\n",
       "      <td>C. REGION</td>\n",
       "      <td>263728</td>\n",
       "      <td>377741</td>\n",
       "      <td>177815</td>\n",
       "      <td>358483</td>\n",
       "      <td>536299.0</td>\n",
       "    </tr>\n",
       "    <tr>\n",
       "      <th>19</th>\n",
       "      <td>20</td>\n",
       "      <td>E. REGION</td>\n",
       "      <td>332384</td>\n",
       "      <td>292178</td>\n",
       "      <td>196708</td>\n",
       "      <td>263199</td>\n",
       "      <td>459907.0</td>\n",
       "    </tr>\n",
       "    <tr>\n",
       "      <th>62</th>\n",
       "      <td>63</td>\n",
       "      <td>W. REGION</td>\n",
       "      <td>154560</td>\n",
       "      <td>341323</td>\n",
       "      <td>105190</td>\n",
       "      <td>315616</td>\n",
       "      <td>420806.0</td>\n",
       "    </tr>\n",
       "    <tr>\n",
       "      <th>57</th>\n",
       "      <td>58</td>\n",
       "      <td>W.HILLS</td>\n",
       "      <td>94009</td>\n",
       "      <td>225270</td>\n",
       "      <td>64947</td>\n",
       "      <td>230740</td>\n",
       "      <td>295687.0</td>\n",
       "    </tr>\n",
       "    <tr>\n",
       "      <th>33</th>\n",
       "      <td>34</td>\n",
       "      <td>C.HILLS</td>\n",
       "      <td>125519</td>\n",
       "      <td>187803</td>\n",
       "      <td>78958</td>\n",
       "      <td>187149</td>\n",
       "      <td>266107.0</td>\n",
       "    </tr>\n",
       "    <tr>\n",
       "      <th>18</th>\n",
       "      <td>19</td>\n",
       "      <td>E.TERAI</td>\n",
       "      <td>177124</td>\n",
       "      <td>150892</td>\n",
       "      <td>106797</td>\n",
       "      <td>147023</td>\n",
       "      <td>253820.0</td>\n",
       "    </tr>\n",
       "    <tr>\n",
       "      <th>81</th>\n",
       "      <td>82</td>\n",
       "      <td>MW. REGION</td>\n",
       "      <td>144868</td>\n",
       "      <td>211885</td>\n",
       "      <td>76157</td>\n",
       "      <td>160705</td>\n",
       "      <td>236862.0</td>\n",
       "    </tr>\n",
       "    <tr>\n",
       "      <th>41</th>\n",
       "      <td>42</td>\n",
       "      <td>C.TERAI</td>\n",
       "      <td>116829</td>\n",
       "      <td>157331</td>\n",
       "      <td>85684</td>\n",
       "      <td>141074</td>\n",
       "      <td>226758.0</td>\n",
       "    </tr>\n",
       "    <tr>\n",
       "      <th>94</th>\n",
       "      <td>95</td>\n",
       "      <td>FW. REGION</td>\n",
       "      <td>130595</td>\n",
       "      <td>132257</td>\n",
       "      <td>87936</td>\n",
       "      <td>112438</td>\n",
       "      <td>200374.0</td>\n",
       "    </tr>\n",
       "  </tbody>\n",
       "</table>\n",
       "</div>"
      ],
      "text/plain": [
       "    _id    DISTRICT  MILKING  COWS NO.  MILKING  BUFFALOES NO.  COW MILK  \\\n",
       "95   96       NEPAL            1026135                 1355384    643806   \n",
       "42   43   C. REGION             263728                  377741    177815   \n",
       "19   20   E. REGION             332384                  292178    196708   \n",
       "62   63   W. REGION             154560                  341323    105190   \n",
       "57   58     W.HILLS              94009                  225270     64947   \n",
       "33   34     C.HILLS             125519                  187803     78958   \n",
       "18   19     E.TERAI             177124                  150892    106797   \n",
       "81   82  MW. REGION             144868                  211885     76157   \n",
       "41   42     C.TERAI             116829                  157331     85684   \n",
       "94   95  FW. REGION             130595                  132257     87936   \n",
       "\n",
       "    BUFF MILK  TOTAL MILK PRODUCED  \n",
       "95    1210441            1854247.0  \n",
       "42     358483             536299.0  \n",
       "19     263199             459907.0  \n",
       "62     315616             420806.0  \n",
       "57     230740             295687.0  \n",
       "33     187149             266107.0  \n",
       "18     147023             253820.0  \n",
       "81     160705             236862.0  \n",
       "41     141074             226758.0  \n",
       "94     112438             200374.0  "
      ]
     },
     "execution_count": 89,
     "metadata": {},
     "output_type": "execute_result"
    }
   ],
   "source": [
    "nlrg"
   ]
  },
  {
   "cell_type": "code",
   "execution_count": 91,
   "id": "318d36c4",
   "metadata": {},
   "outputs": [
    {
     "data": {
      "image/png": "[encoded data removed]",
      "text/plain": [
       "<Figure size 640x480 with 1 Axes>"
      ]
     },
     "metadata": {},
     "output_type": "display_data"
    }
   ],
   "source": [
    "plt.pie( x=nlrg['TOTAL MILK PRODUCED'], labels=nlrg['DISTRICT'])\n",
    "plt.show()\n",
    "\n"
   ]
  },
  {
   "cell_type": "code",
   "execution_count": 103,
   "id": "7fe4c9cd",
   "metadata": {},
   "outputs": [
    {
     "data": {
      "image/png": "[encoded data removed]",
      "text/plain": [
       "<Figure size 640x480 with 1 Axes>"
      ]
     },
     "metadata": {},
     "output_type": "display_data"
    }
   ],
   "source": [
    "plt.hist(x=df['TOTAL MILK PRODUCED']/1000, bins=10)\n",
    "plt.show()"
   ]
  },
  {
   "cell_type": "code",
   "execution_count": null,
   "id": "75f721bc",
   "metadata": {},
   "outputs": [],
   "source": []
  },
  {
   "cell_type": "code",
   "execution_count": 117,
   "id": "adce106d",
   "metadata": {},
   "outputs": [],
   "source": [
    "tM =  (df.sort_values(by=['TOTAL MILK PRODUCED'],ascending=True)['TOTAL MILK PRODUCED']).reset_index()"
   ]
  },
  {
   "cell_type": "code",
   "execution_count": 120,
   "id": "2989ce8f",
   "metadata": {},
   "outputs": [
    {
     "data": {
      "text/plain": [
       "[<matplotlib.lines.Line2D at 0x289f27f40>]"
      ]
     },
     "execution_count": 120,
     "metadata": {},
     "output_type": "execute_result"
    },
    {
     "data": {
      "image/png": "[encoded data removed]",
      "text/plain": [
       "<Figure size 640x480 with 1 Axes>"
      ]
     },
     "metadata": {},
     "output_type": "display_data"
    }
   ],
   "source": [
    "plt.plot(tM.index, tM['TOTAL MILK PRODUCED'])"
   ]
  },
  {
   "cell_type": "code",
   "execution_count": null,
   "id": "f8cd8dbd",
   "metadata": {},
   "outputs": [],
   "source": [
    "MILKING COWS NO."
   ]
  },
  {
   "cell_type": "code",
   "execution_count": 125,
   "id": "33b05a93",
   "metadata": {},
   "outputs": [
    {
     "data": {
      "text/plain": [
       "[<matplotlib.lines.Line2D at 0x28a19aaf0>]"
      ]
     },
     "execution_count": 125,
     "metadata": {},
     "output_type": "execute_result"
    },
    {
     "data": {
      "image/png": "[encoded data removed]",
      "text/plain": [
       "<Figure size 640x480 with 1 Axes>"
      ]
     },
     "metadata": {},
     "output_type": "display_data"
    }
   ],
   "source": [
    "tM =  (df.sort_values(by=['MILKING  COWS NO.'],ascending=True)['TOTAL MILK PRODUCED']).reset_index()\n",
    "plt.plot(tM.index, tM['TOTAL MILK PRODUCED'])"
   ]
  },
  {
   "cell_type": "code",
   "execution_count": 124,
   "id": "8c27233c",
   "metadata": {},
   "outputs": [
    {
     "data": {
      "text/plain": [
       "Index(['_id', 'DISTRICT', 'MILKING  COWS NO.', 'MILKING  BUFFALOES NO.',\n",
       "       'COW MILK', 'BUFF MILK', 'TOTAL MILK PRODUCED'],\n",
       "      dtype='object')"
      ]
     },
     "execution_count": 124,
     "metadata": {},
     "output_type": "execute_result"
    }
   ],
   "source": [
    "df.columns"
   ]
  },
  {
   "cell_type": "code",
   "execution_count": 132,
   "id": "b321a47b",
   "metadata": {},
   "outputs": [],
   "source": [
    "df['BCNRatio'] = df['MILKING  COWS NO.'] / df['MILKING  BUFFALOES NO.']\n",
    "df['BCMRatio'] = df['COW MILK'] / df ['BUFF MILK']"
   ]
  },
  {
   "cell_type": "code",
   "execution_count": 133,
   "id": "4af26dbf",
   "metadata": {},
   "outputs": [
    {
     "data": {
      "text/html": [
       "<div>\n",
       "<style scoped>\n",
       "    .dataframe tbody tr th:only-of-type {\n",
       "        vertical-align: middle;\n",
       "    }\n",
       "\n",
       "    .dataframe tbody tr th {\n",
       "        vertical-align: top;\n",
       "    }\n",
       "\n",
       "    .dataframe thead th {\n",
       "        text-align: right;\n",
       "    }\n",
       "</style>\n",
       "<table border=\"1\" class=\"dataframe\">\n",
       "  <thead>\n",
       "    <tr style=\"text-align: right;\">\n",
       "      <th></th>\n",
       "      <th>_id</th>\n",
       "      <th>DISTRICT</th>\n",
       "      <th>MILKING  COWS NO.</th>\n",
       "      <th>MILKING  BUFFALOES NO.</th>\n",
       "      <th>COW MILK</th>\n",
       "      <th>BUFF MILK</th>\n",
       "      <th>TOTAL MILK PRODUCED</th>\n",
       "      <th>BCNRatio</th>\n",
       "      <th>BCMRatio</th>\n",
       "    </tr>\n",
       "  </thead>\n",
       "  <tbody>\n",
       "    <tr>\n",
       "      <th>0</th>\n",
       "      <td>1</td>\n",
       "      <td>TAPLEJUNG</td>\n",
       "      <td>8123</td>\n",
       "      <td>4987</td>\n",
       "      <td>5389</td>\n",
       "      <td>4257</td>\n",
       "      <td>9645.0</td>\n",
       "      <td>1.628835</td>\n",
       "      <td>1.265915</td>\n",
       "    </tr>\n",
       "    <tr>\n",
       "      <th>1</th>\n",
       "      <td>2</td>\n",
       "      <td>SANKHUWASHAVA</td>\n",
       "      <td>15342</td>\n",
       "      <td>13367</td>\n",
       "      <td>6988</td>\n",
       "      <td>10589</td>\n",
       "      <td>17577.0</td>\n",
       "      <td>1.147752</td>\n",
       "      <td>0.659930</td>\n",
       "    </tr>\n",
       "    <tr>\n",
       "      <th>2</th>\n",
       "      <td>3</td>\n",
       "      <td>SOLUKHUMBU</td>\n",
       "      <td>7819</td>\n",
       "      <td>13501</td>\n",
       "      <td>2948</td>\n",
       "      <td>5493</td>\n",
       "      <td>8441.0</td>\n",
       "      <td>0.579142</td>\n",
       "      <td>0.536683</td>\n",
       "    </tr>\n",
       "    <tr>\n",
       "      <th>3</th>\n",
       "      <td>4</td>\n",
       "      <td>E.MOUNTAIN</td>\n",
       "      <td>31284</td>\n",
       "      <td>31855</td>\n",
       "      <td>15324</td>\n",
       "      <td>20339</td>\n",
       "      <td>35663.0</td>\n",
       "      <td>0.982075</td>\n",
       "      <td>0.753429</td>\n",
       "    </tr>\n",
       "    <tr>\n",
       "      <th>4</th>\n",
       "      <td>5</td>\n",
       "      <td>PANCHTHAR</td>\n",
       "      <td>14854</td>\n",
       "      <td>11331</td>\n",
       "      <td>8511</td>\n",
       "      <td>9835</td>\n",
       "      <td>18346.0</td>\n",
       "      <td>1.310917</td>\n",
       "      <td>0.865379</td>\n",
       "    </tr>\n",
       "    <tr>\n",
       "      <th>...</th>\n",
       "      <td>...</td>\n",
       "      <td>...</td>\n",
       "      <td>...</td>\n",
       "      <td>...</td>\n",
       "      <td>...</td>\n",
       "      <td>...</td>\n",
       "      <td>...</td>\n",
       "      <td>...</td>\n",
       "      <td>...</td>\n",
       "    </tr>\n",
       "    <tr>\n",
       "      <th>91</th>\n",
       "      <td>92</td>\n",
       "      <td>KAILALI</td>\n",
       "      <td>27758</td>\n",
       "      <td>41103</td>\n",
       "      <td>27905</td>\n",
       "      <td>36677</td>\n",
       "      <td>64582.0</td>\n",
       "      <td>0.675328</td>\n",
       "      <td>0.760831</td>\n",
       "    </tr>\n",
       "    <tr>\n",
       "      <th>92</th>\n",
       "      <td>93</td>\n",
       "      <td>KANCHANPUR</td>\n",
       "      <td>20164</td>\n",
       "      <td>27812</td>\n",
       "      <td>23146</td>\n",
       "      <td>25876</td>\n",
       "      <td>49022.0</td>\n",
       "      <td>0.725011</td>\n",
       "      <td>0.894497</td>\n",
       "    </tr>\n",
       "    <tr>\n",
       "      <th>93</th>\n",
       "      <td>94</td>\n",
       "      <td>FW.TERAI</td>\n",
       "      <td>47922</td>\n",
       "      <td>68915</td>\n",
       "      <td>51051</td>\n",
       "      <td>62553</td>\n",
       "      <td>113604.0</td>\n",
       "      <td>0.695378</td>\n",
       "      <td>0.816124</td>\n",
       "    </tr>\n",
       "    <tr>\n",
       "      <th>94</th>\n",
       "      <td>95</td>\n",
       "      <td>FW. REGION</td>\n",
       "      <td>130595</td>\n",
       "      <td>132257</td>\n",
       "      <td>87936</td>\n",
       "      <td>112438</td>\n",
       "      <td>200374.0</td>\n",
       "      <td>0.987434</td>\n",
       "      <td>0.782084</td>\n",
       "    </tr>\n",
       "    <tr>\n",
       "      <th>95</th>\n",
       "      <td>96</td>\n",
       "      <td>NEPAL</td>\n",
       "      <td>1026135</td>\n",
       "      <td>1355384</td>\n",
       "      <td>643806</td>\n",
       "      <td>1210441</td>\n",
       "      <td>1854247.0</td>\n",
       "      <td>0.757081</td>\n",
       "      <td>0.531877</td>\n",
       "    </tr>\n",
       "  </tbody>\n",
       "</table>\n",
       "<p>96 rows × 9 columns</p>\n",
       "</div>"
      ],
      "text/plain": [
       "    _id       DISTRICT  MILKING  COWS NO.  MILKING  BUFFALOES NO.  COW MILK  \\\n",
       "0     1      TAPLEJUNG               8123                    4987      5389   \n",
       "1     2  SANKHUWASHAVA              15342                   13367      6988   \n",
       "2     3     SOLUKHUMBU               7819                   13501      2948   \n",
       "3     4     E.MOUNTAIN              31284                   31855     15324   \n",
       "4     5      PANCHTHAR              14854                   11331      8511   \n",
       "..  ...            ...                ...                     ...       ...   \n",
       "91   92        KAILALI              27758                   41103     27905   \n",
       "92   93     KANCHANPUR              20164                   27812     23146   \n",
       "93   94       FW.TERAI              47922                   68915     51051   \n",
       "94   95     FW. REGION             130595                  132257     87936   \n",
       "95   96          NEPAL            1026135                 1355384    643806   \n",
       "\n",
       "    BUFF MILK  TOTAL MILK PRODUCED  BCNRatio  BCMRatio  \n",
       "0        4257               9645.0  1.628835  1.265915  \n",
       "1       10589              17577.0  1.147752  0.659930  \n",
       "2        5493               8441.0  0.579142  0.536683  \n",
       "3       20339              35663.0  0.982075  0.753429  \n",
       "4        9835              18346.0  1.310917  0.865379  \n",
       "..        ...                  ...       ...       ...  \n",
       "91      36677              64582.0  0.675328  0.760831  \n",
       "92      25876              49022.0  0.725011  0.894497  \n",
       "93      62553             113604.0  0.695378  0.816124  \n",
       "94     112438             200374.0  0.987434  0.782084  \n",
       "95    1210441            1854247.0  0.757081  0.531877  \n",
       "\n",
       "[96 rows x 9 columns]"
      ]
     },
     "execution_count": 133,
     "metadata": {},
     "output_type": "execute_result"
    }
   ],
   "source": [
    "df"
   ]
  },
  {
   "cell_type": "code",
   "execution_count": null,
   "id": "202baec0",
   "metadata": {},
   "outputs": [],
   "source": []
  },
  {
   "cell_type": "code",
   "execution_count": 151,
   "id": "8a3148ae",
   "metadata": {},
   "outputs": [
    {
     "data": {
      "text/plain": [
       "<AxesSubplot: xlabel='DISTRICT'>"
      ]
     },
     "execution_count": 151,
     "metadata": {},
     "output_type": "execute_result"
    },
    {
     "data": {
      "image/png": "[encoded data removed]",
      "text/plain": [
       "<Figure size 640x480 with 1 Axes>"
      ]
     },
     "metadata": {},
     "output_type": "display_data"
    },
    {
     "data": {
      "image/png": "[encoded data removed]",
      "text/plain": [
       "<Figure size 640x480 with 1 Axes>"
      ]
     },
     "metadata": {},
     "output_type": "display_data"
    },
    {
     "data": {
      "image/png": "[encoded data removed]",
      "text/plain": [
       "<Figure size 640x480 with 1 Axes>"
      ]
     },
     "metadata": {},
     "output_type": "display_data"
    }
   ],
   "source": [
    "df.sort_values(by=['BCMRatio'], ascending=False).head(10).plot(kind='line', x='DISTRICT', y='BCMRatio',alpha=0.75, rot=90)\n",
    "df.sort_values(by=['BCNRatio'], ascending=False).head(10).plot(kind='line', x='DISTRICT', y='BCNRatio',alpha=0.75, rot=90)\n",
    "df.sort_values(by=['BCMRatio'], ascending=False).head(10).plot(kind='line', x='DISTRICT', y='TOTAL MILK PRODUCED',alpha=0.75, rot=90)\n"
   ]
  },
  {
   "cell_type": "code",
   "execution_count": null,
   "id": "21711c72",
   "metadata": {},
   "outputs": [],
   "source": []
  }
 ],
 "metadata": {
  "kernelspec": {
   "display_name": "Python 3 (ipykernel)",
   "language": "python",
   "name": "python3"
  },
  "language_info": {
   "codemirror_mode": {
    "name": "ipython",
    "version": 3
   },
   "file_extension": ".py",
   "mimetype": "text/x-python",
   "name": "python",
   "nbconvert_exporter": "python",
   "pygments_lexer": "ipython3",
   "version": "3.9.6"
  }
 },
 "nbformat": 4,
 "nbformat_minor": 5
}
